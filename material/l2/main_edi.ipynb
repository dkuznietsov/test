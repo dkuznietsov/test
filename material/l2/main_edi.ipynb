{
 "cells": [
  {
   "cell_type": "code",
   "execution_count": 0,
   "metadata": {
    "application/vnd.databricks.v1+cell": {
     "cellMetadata": {
      "byteLimit": 2048000,
      "rowLimit": 10000
     },
     "inputWidgets": {},
     "nuid": "3459eda3-c2f3-46e5-b181-809eb1c3fac6",
     "showTitle": false,
     "tableResultSettingsMap": {},
     "title": ""
    }
   },
   "outputs": [],
   "source": [
    "%pip install croniter"
   ]
  },
  {
   "cell_type": "markdown",
   "metadata": {
    "application/vnd.databricks.v1+cell": {
     "cellMetadata": {},
     "inputWidgets": {},
     "nuid": "317ce668-0167-441a-872d-ad0cc1cf0500",
     "showTitle": false,
     "tableResultSettingsMap": {},
     "title": ""
    }
   },
   "source": [
    "# EDI Material"
   ]
  },
  {
   "cell_type": "code",
   "execution_count": 0,
   "metadata": {
    "application/vnd.databricks.v1+cell": {
     "cellMetadata": {
      "byteLimit": 2048000,
      "rowLimit": 10000
     },
     "inputWidgets": {},
     "nuid": "1ae0baf8-8fcc-4d50-8c43-fe269d82a13f",
     "showTitle": true,
     "tableResultSettingsMap": {},
     "title": ""
    }
   },
   "outputs": [],
   "source": [
    "from argparse import Namespace\n",
    "\n",
    "from util.jscs import JscsJob, get_start_end_time_for_sourcedata_delay\n",
    "from util.taskvalue import TaskValue\n",
    "from material.config import Config\n",
    "from material.l2.config.kpi_info import TableInfo, KpiInfo\n",
    "from material.l2.src.running.edi import Material\n",
    "from material.l2.logic.stage_args import EdiLogicArgs"
   ]
  },
  {
   "cell_type": "markdown",
   "metadata": {
    "application/vnd.databricks.v1+cell": {
     "cellMetadata": {},
     "inputWidgets": {},
     "nuid": "8eb830d0-5195-4da4-9a91-a459efd4fbe6",
     "showTitle": false,
     "tableResultSettingsMap": {},
     "title": ""
    }
   },
   "source": [
    "\n",
    "# Job args"
   ]
  },
  {
   "cell_type": "code",
   "execution_count": 0,
   "metadata": {
    "application/vnd.databricks.v1+cell": {
     "cellMetadata": {
      "byteLimit": 2048000,
      "rowLimit": 10000
     },
     "inputWidgets": {},
     "nuid": "e2ee2551-e225-4aef-93e4-83588b97499b",
     "showTitle": false,
     "tableResultSettingsMap": {},
     "title": ""
    }
   },
   "outputs": [],
   "source": [
    "config = Config()\n",
    "\n",
    "db_schema = config.delta_schema\n",
    "save_path = config.save_path\n",
    "\n",
    "try:\n",
    "  taskKey = dbutils.widgets.get('TASK_KEY')\n",
    "except:\n",
    "  taskKey = config.l2_taskName\n",
    "\n",
    "taskvalue = TaskValue()\n",
    "workflow_time = taskvalue.get_args(taskKey=taskKey,\n",
    "                                   key=config.taskKey,\n",
    "                                   debugType=\"l2_l3\")\n",
    "n = Namespace(**workflow_time)"
   ]
  },
  {
   "cell_type": "markdown",
   "metadata": {
    "application/vnd.databricks.v1+cell": {
     "cellMetadata": {},
     "inputWidgets": {},
     "nuid": "7dc6e519-f123-45f9-9df8-0d9126c3610b",
     "showTitle": false,
     "tableResultSettingsMap": {},
     "title": ""
    }
   },
   "source": [
    "\n",
    "# Global Setup"
   ]
  },
  {
   "cell_type": "code",
   "execution_count": 0,
   "metadata": {
    "application/vnd.databricks.v1+cell": {
     "cellMetadata": {
      "byteLimit": 2048000,
      "rowLimit": 10000
     },
     "inputWidgets": {},
     "nuid": "2195710f-082f-443f-a19f-97e5480ad041",
     "showTitle": false,
     "tableResultSettingsMap": {},
     "title": ""
    }
   },
   "outputs": [],
   "source": [
    "IS_TEST = False\n",
    "\n",
    "# Table Name\n",
    "MATERIAL_TABLENAME = config.mf_all_s_all_dw_at_feedback_h_dax_fbk_material_ods\n",
    "print(f\"MATERIAL_TABLENAME:{MATERIAL_TABLENAME}\")\n",
    "\n",
    "\n",
    "if IS_TEST:\n",
    "    START_TIME = \"2025-1-07 20:41:00\"\n",
    "    END_TIME = \"2025-1-07 20:42:00\"\n",
    "    PROCESS_STAGE = \"EDI\"\n",
    "    FAB_CODE_DICT = config.fab_code_dict()\n",
    "    FAB = \"Z19\"\n",
    "    FAB_CODE = FAB_CODE_DICT.get(FAB)\n",
    "    JOB_RUN = True\n",
    "    IS_RUN = \"TRUE\"\n",
    "else:\n",
    "    START_TIME = n.START_TIME\n",
    "    END_TIME = n.END_TIME\n",
    "    JOB_NAME = n.JOB_NAME\n",
    "    FAB = n.FAB\n",
    "    PROCESS_STAGE = n.PROCESS_STAGE    \n",
    "    FAB_CODE_DICT = config.fab_code_dict()\n",
    "    FAB_CODE = config.fab_code_dict().get(FAB)\n",
    "    IS_RUN = n.IS_RUN\n",
    "\n",
    "    if not JOB_NAME.strip():  # 如果去掉空格后字符串为空\n",
    "        JOB_NAME = f\"{FAB}_{PROCESS_STAGE}_F2C_H_DAX_FBK_MATERIAL\"  \n",
    "\n",
    "    # JSCS\n",
    "    jscs = JscsJob(JOB_NAME, config.jscs_db_schema, is_notimezone=False)\n",
    "    jscs.get_job_dsp_dep()\n",
    "\n",
    "    if START_TIME == \"\" and  END_TIME == \"\":\n",
    "        # jscs 取得撈取時間\n",
    "        JOB_RUN = jscs.get_job_run()\n",
    "        START_TIME, END_TIME = get_start_end_time_for_sourcedata_delay(jscs, get_time=True)\n",
    "        print(f\"Start: {START_TIME}, End: {END_TIME}\")\n",
    "    else:\n",
    "        JOB_RUN = jscs.get_job_run(True)\n",
    "        print(f\"Start: {START_TIME}, End: {END_TIME}\")"
   ]
  },
  {
   "cell_type": "markdown",
   "metadata": {
    "application/vnd.databricks.v1+cell": {
     "cellMetadata": {},
     "inputWidgets": {},
     "nuid": "3b3ab351-07aa-45f9-b5b2-1585d0fcd293",
     "showTitle": false,
     "tableResultSettingsMap": {},
     "title": ""
    }
   },
   "source": [
    "\n",
    "# EDI MATERIAL TABLE"
   ]
  },
  {
   "cell_type": "code",
   "execution_count": 0,
   "metadata": {
    "application/vnd.databricks.v1+cell": {
     "cellMetadata": {
      "byteLimit": 2048000,
      "rowLimit": 10000
     },
     "inputWidgets": {},
     "nuid": "43e0f85b-5325-4303-9688-3172c925cfb5",
     "showTitle": false,
     "tableResultSettingsMap": {},
     "title": ""
    }
   },
   "outputs": [],
   "source": [
    "if (JOB_RUN and IS_RUN == \"TRUE\"):\n",
    "\n",
    "    try:\n",
    "        if not IS_TEST: jscs.update_job_status(\"RUN\")\n",
    "\n",
    "        logic_args = EdiLogicArgs(\n",
    "            START_TIME,\n",
    "            END_TIME,\n",
    "            FAB,\n",
    "            FAB_CODE,\n",
    "            PROCESS_STAGE\n",
    "        )\n",
    "\n",
    "        steps = {\n",
    "            \"material58\": KpiInfo(\"None\", ['ZB1'], logic_args),\n",
    "            \"material59\": KpiInfo(\"None\", ['Z83', 'Z1D'], logic_args),\n",
    "            \"material60\": KpiInfo(\"None\", ['Z19', 'Z1F', 'G23', 'G25', 'Z1L', 'Z1S', 'Z1T', 'G30'], logic_args)\n",
    "        }\n",
    "\n",
    "        info = TableInfo(\n",
    "            fab = FAB,\n",
    "            process_stage=PROCESS_STAGE,\n",
    "            target_table=MATERIAL_TABLENAME,\n",
    "            target_table_name=MATERIAL_TABLENAME,\n",
    "            db_schema=db_schema,\n",
    "            save_path=save_path,\n",
    "            update_method=\"upsert\",\n",
    "            delete_clause=None,\n",
    "            kpi_steps=steps\n",
    "        )\n",
    "\n",
    "        table = Material(\n",
    "            table_info=info,\n",
    "        )\n",
    "        table.prepare_data()\n",
    "        table.delete_upsert_data()\n",
    "\n",
    "        if not IS_TEST: jscs.update_job_status(\"COMP\")\n",
    "    \n",
    "    except Exception as err:\n",
    "        print(\"Error: \", err)\n",
    "        if not IS_TEST: jscs.update_job_status(\"FAIL\", err)\n",
    "        raise\n",
    "else:\n",
    "    print(f\"Skip this cell run because the JOB_RUN is {JOB_RUN}.\")"
   ]
  }
 ],
 "metadata": {
  "application/vnd.databricks.v1+notebook": {
   "computePreferences": null,
   "dashboards": [],
   "environmentMetadata": null,
   "inputWidgetPreferences": null,
   "language": "python",
   "notebookMetadata": {
    "pythonIndentUnit": 2
   },
   "notebookName": "main_edi",
   "widgets": {}
  },
  "language_info": {
   "name": "python"
  }
 },
 "nbformat": 4,
 "nbformat_minor": 0
}
