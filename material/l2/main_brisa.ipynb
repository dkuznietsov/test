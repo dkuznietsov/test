{
 "cells": [
  {
   "cell_type": "code",
   "execution_count": 0,
   "metadata": {
    "application/vnd.databricks.v1+cell": {
     "cellMetadata": {
      "byteLimit": 2048000,
      "rowLimit": 10000
     },
     "inputWidgets": {},
     "nuid": "d3e1be81-986c-4594-86b1-eb47a9a97a67",
     "showTitle": false,
     "tableResultSettingsMap": {},
     "title": ""
    }
   },
   "outputs": [],
   "source": [
    "%pip install croniter"
   ]
  },
  {
   "cell_type": "markdown",
   "metadata": {
    "application/vnd.databricks.v1+cell": {
     "cellMetadata": {},
     "inputWidgets": {},
     "nuid": "0b0b6f91-5e6c-470c-b7df-6abb192cf626",
     "showTitle": false,
     "tableResultSettingsMap": {},
     "title": ""
    }
   },
   "source": [
    "# BRISA Material"
   ]
  },
  {
   "cell_type": "code",
   "execution_count": 0,
   "metadata": {
    "application/vnd.databricks.v1+cell": {
     "cellMetadata": {
      "byteLimit": 2048000,
      "rowLimit": 10000
     },
     "inputWidgets": {},
     "nuid": "917c14fe-93c7-4f05-85f2-480ab483a849",
     "showTitle": false,
     "tableResultSettingsMap": {},
     "title": ""
    }
   },
   "outputs": [],
   "source": [
    "from argparse import Namespace\n",
    "\n",
    "from util.jscs import JscsJob, get_start_end_time_for_sourcedata_delay\n",
    "from util.taskvalue import TaskValue\n",
    "from material.config import Config\n",
    "from material.l2.config.kpi_info import TableInfo, KpiInfo\n",
    "from material.l2.src.running.brisa import Material\n",
    "from material.l2.logic.stage_args import BrisaLogicArgs"
   ]
  },
  {
   "cell_type": "markdown",
   "metadata": {
    "application/vnd.databricks.v1+cell": {
     "cellMetadata": {},
     "inputWidgets": {},
     "nuid": "1022ac5f-86fb-4b7d-ac73-f155eb095f46",
     "showTitle": false,
     "tableResultSettingsMap": {},
     "title": ""
    }
   },
   "source": [
    "\n",
    "# Job args"
   ]
  },
  {
   "cell_type": "code",
   "execution_count": 0,
   "metadata": {
    "application/vnd.databricks.v1+cell": {
     "cellMetadata": {
      "byteLimit": 2048000,
      "rowLimit": 10000
     },
     "inputWidgets": {},
     "nuid": "242bacb0-2bcc-4fc2-9c1c-fb8974f0aa14",
     "showTitle": false,
     "tableResultSettingsMap": {},
     "title": ""
    }
   },
   "outputs": [],
   "source": [
    "config = Config()\n",
    "\n",
    "db_schema = config.delta_schema\n",
    "save_path = config.save_path\n",
    "\n",
    "try:\n",
    "  taskKey = dbutils.widgets.get('TASK_KEY')\n",
    "except:\n",
    "  taskKey = config.l2_taskName\n",
    "\n",
    "taskvalue = TaskValue()\n",
    "workflow_time = taskvalue.get_args(taskKey=taskKey,\n",
    "                                   key=config.taskKey,\n",
    "                                   debugType=\"l2_l3\")\n",
    "n = Namespace(**workflow_time)"
   ]
  },
  {
   "cell_type": "markdown",
   "metadata": {
    "application/vnd.databricks.v1+cell": {
     "cellMetadata": {},
     "inputWidgets": {},
     "nuid": "433e20fe-4a40-4f5f-bb7d-e53a63add74c",
     "showTitle": false,
     "tableResultSettingsMap": {},
     "title": ""
    }
   },
   "source": [
    "\n",
    "# Global Setup"
   ]
  },
  {
   "cell_type": "code",
   "execution_count": 0,
   "metadata": {
    "application/vnd.databricks.v1+cell": {
     "cellMetadata": {
      "byteLimit": 2048000,
      "rowLimit": 10000
     },
     "inputWidgets": {},
     "nuid": "d487204b-43d9-4034-9015-3b0041296f1e",
     "showTitle": false,
     "tableResultSettingsMap": {},
     "title": ""
    }
   },
   "outputs": [],
   "source": [
    "IS_TEST = False\n",
    "\n",
    "# Table Name\n",
    "MATERIAL_TABLENAME = config.mf_all_s_all_dw_at_feedback_h_dax_fbk_material_ods\n",
    "print(f\"MATERIAL_TABLENAME:{MATERIAL_TABLENAME}\")\n",
    "\n",
    "\n",
    "if IS_TEST:\n",
    "    START_TIME = \"2025-03-03 10:26:00\"\n",
    "    END_TIME = \"2025-03-03 10:27:00\"\n",
    "    PROCESS_STAGE = \"BRISA\"\n",
    "    FAB_CODE_DICT = config.fab_code_dict()\n",
    "    FAB = \"Z40\"\n",
    "    FAB_CODE = FAB_CODE_DICT.get(FAB)\n",
    "    JOB_RUN = True\n",
    "    IS_RUN = \"TRUE\"\n",
    "else:\n",
    "    START_TIME = n.START_TIME\n",
    "    END_TIME = n.END_TIME\n",
    "    JOB_NAME = n.JOB_NAME\n",
    "    FAB = n.FAB\n",
    "    PROCESS_STAGE = n.PROCESS_STAGE    \n",
    "    FAB_CODE_DICT = config.fab_code_dict()\n",
    "    FAB_CODE = config.fab_code_dict().get(FAB)\n",
    "    IS_RUN = n.IS_RUN\n",
    "\n",
    "    if not JOB_NAME.strip():  # 如果去掉空格后字符串为空\n",
    "        JOB_NAME = f\"{FAB}_{PROCESS_STAGE}_F2C_H_DAX_FBK_MATERIAL\"  \n",
    "\n",
    "    # JSCS\n",
    "    jscs = JscsJob(JOB_NAME, config.jscs_db_schema, is_notimezone=False)\n",
    "    jscs.get_job_dsp_dep()\n",
    "\n",
    "    if START_TIME == \"\" and  END_TIME == \"\":\n",
    "        # jscs 取得撈取時間\n",
    "        JOB_RUN = jscs.get_job_run()\n",
    "        START_TIME, END_TIME = get_start_end_time_for_sourcedata_delay(jscs, get_time=True)\n",
    "        print(f\"Start: {START_TIME}, End: {END_TIME}\")\n",
    "    else:\n",
    "        JOB_RUN = jscs.get_job_run(True)\n",
    "        print(f\"Start: {START_TIME}, End: {END_TIME}\")"
   ]
  },
  {
   "cell_type": "markdown",
   "metadata": {
    "application/vnd.databricks.v1+cell": {
     "cellMetadata": {},
     "inputWidgets": {},
     "nuid": "72e8e3f7-9f49-4758-b8e5-02e51eb0e07a",
     "showTitle": false,
     "tableResultSettingsMap": {},
     "title": ""
    }
   },
   "source": [
    "\n",
    "# BRISA MATERIAL TABLE"
   ]
  },
  {
   "cell_type": "code",
   "execution_count": 0,
   "metadata": {
    "application/vnd.databricks.v1+cell": {
     "cellMetadata": {
      "byteLimit": 2048000,
      "rowLimit": 10000
     },
     "inputWidgets": {},
     "nuid": "44d1018a-f980-492d-b0c7-b11fb403a7c3",
     "showTitle": false,
     "tableResultSettingsMap": {},
     "title": ""
    }
   },
   "outputs": [],
   "source": [
    "if (JOB_RUN and IS_RUN == \"TRUE\"):\n",
    "\n",
    "    try:\n",
    "        if not IS_TEST: jscs.update_job_status(\"RUN\")\n",
    "\n",
    "        logic_args = BrisaLogicArgs(\n",
    "            START_TIME,\n",
    "            END_TIME,\n",
    "            FAB,\n",
    "            FAB_CODE,\n",
    "            PROCESS_STAGE\n",
    "        )\n",
    "\n",
    "        steps = {\n",
    "            \"material\": KpiInfo(\"None\",  ['X13', 'Z0M', 'Z45', 'S13', 'Z1E', 'Z31', 'Z40', 'ZK7', 'Z0W', 'Z0H', 'Z1F', 'Z0D', 'Z1L', 'ZF2', 'ZKC', 'Z22', 'Z94'], logic_args)\n",
    "        }\n",
    "\n",
    "        info = TableInfo(\n",
    "            fab = FAB,\n",
    "            process_stage=PROCESS_STAGE,\n",
    "            target_table=MATERIAL_TABLENAME,\n",
    "            target_table_name=MATERIAL_TABLENAME,\n",
    "            db_schema=db_schema,\n",
    "            save_path=save_path,\n",
    "            update_method=\"upsert\",\n",
    "            delete_clause=None,\n",
    "            kpi_steps=steps\n",
    "        )\n",
    "\n",
    "        table = Material(\n",
    "            table_info=info,\n",
    "        )\n",
    "        table.prepare_data()\n",
    "        table.delete_upsert_data()\n",
    "\n",
    "        if not IS_TEST: jscs.update_job_status(\"COMP\")\n",
    "    \n",
    "    except Exception as err:\n",
    "        print(\"Error: \", err)\n",
    "        if not IS_TEST: jscs.update_job_status(\"FAIL\", err)\n",
    "        raise\n",
    "else:\n",
    "    print(f\"Skip this cell run because the JOB_RUN is {JOB_RUN}.\")"
   ]
  }
 ],
 "metadata": {
  "application/vnd.databricks.v1+notebook": {
   "computePreferences": null,
   "dashboards": [],
   "environmentMetadata": null,
   "inputWidgetPreferences": null,
   "language": "python",
   "notebookMetadata": {
    "pythonIndentUnit": 2
   },
   "notebookName": "main_brisa",
   "widgets": {}
  },
  "language_info": {
   "name": "python"
  }
 },
 "nbformat": 4,
 "nbformat_minor": 0
}
